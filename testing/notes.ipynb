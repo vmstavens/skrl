{
 "cells": [
  {
   "cell_type": "markdown",
   "id": "75000a76",
   "metadata": {},
   "source": [
    "# JAX Notes"
   ]
  },
  {
   "cell_type": "code",
   "execution_count": 1,
   "id": "a3eeabb3",
   "metadata": {},
   "outputs": [],
   "source": [
    "import jax\n",
    "import jax.numpy as jp"
   ]
  },
  {
   "cell_type": "code",
   "execution_count": null,
   "id": "9401acc8",
   "metadata": {},
   "outputs": [],
   "source": [
    "\n",
    "dropped = False\n",
    "reward = 10\n",
    "nan_condition = False\n",
    "timeout = False\n",
    "qpos = jp.array([0,0,0,1,jp.nan])\n",
    "\n",
    "# reward = reward if not dropped else reward - 10\n",
    "reward = jp.where(dropped, reward - 10, reward)\n",
    "\n",
    "# done = nan_condition or timeout or dropped\n",
    "done = nan_condition | timeout | dropped\n",
    "\n",
    "# for simulation stability, if we get nan, instability has hit\n",
    "jp.isnan(qpos).any()"
   ]
  }
 ],
 "metadata": {
  "kernelspec": {
   "display_name": ".venv",
   "language": "python",
   "name": "python3"
  },
  "language_info": {
   "codemirror_mode": {
    "name": "ipython",
    "version": 3
   },
   "file_extension": ".py",
   "mimetype": "text/x-python",
   "name": "python",
   "nbconvert_exporter": "python",
   "pygments_lexer": "ipython3",
   "version": "3.12.3"
  }
 },
 "nbformat": 4,
 "nbformat_minor": 5
}
