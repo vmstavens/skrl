{
 "cells": [
  {
   "cell_type": "code",
   "execution_count": null,
   "id": "a326b81c",
   "metadata": {},
   "outputs": [],
   "source": [
    "import mujoco as mj\n",
    "import mujoco.mjx as mjx\n",
    "\n",
    "m: mjx.Model = mj.MjModel()\n",
    "# action = jax.tree.map(np.array, self._env.sys.actuator.ctrl_range)\n",
    "\n",
    "m.actuator_ctrlrange"
   ]
  }
 ],
 "metadata": {
  "kernelspec": {
   "display_name": "skrl",
   "language": "python",
   "name": "python3"
  },
  "language_info": {
   "name": "python",
   "version": "3.12.0"
  }
 },
 "nbformat": 4,
 "nbformat_minor": 5
}
